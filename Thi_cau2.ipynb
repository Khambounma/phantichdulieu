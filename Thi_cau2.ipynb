{
  "nbformat": 4,
  "nbformat_minor": 0,
  "metadata": {
    "colab": {
      "name": "Thi_cau2.ipynb",
      "provenance": [],
      "authorship_tag": "ABX9TyOGBSmt1389XhcFsSXByIAw",
      "include_colab_link": true
    },
    "kernelspec": {
      "name": "python3",
      "display_name": "Python 3"
    },
    "language_info": {
      "name": "python"
    }
  },
  "cells": [
    {
      "cell_type": "markdown",
      "metadata": {
        "id": "view-in-github",
        "colab_type": "text"
      },
      "source": [
        "<a href=\"https://colab.research.google.com/github/Khambounma/phantichdulieu/blob/main/Thi_cau2.ipynb\" target=\"_parent\"><img src=\"https://colab.research.google.com/assets/colab-badge.svg\" alt=\"Open In Colab\"/></a>"
      ]
    },
    {
      "cell_type": "markdown",
      "source": [
        "# **Cau 2**"
      ],
      "metadata": {
        "id": "b6HqHPQ9sCaO"
      }
    },
    {
      "cell_type": "code",
      "execution_count": 7,
      "metadata": {
        "id": "3J3RB3uRsBfz"
      },
      "outputs": [],
      "source": [
        "#cau a\n",
        "\n",
        "student_data = pd.DataFrame({ 'school_code': ['s001','s002','s003','s001','s002','s004'], 'class': ['V', 'V', 'VI', 'VI', 'V', 'VI'], 'name': ['Alberto Franco','Gino Mcneill','Ryan Parkes', 'Eesha Hinton', 'Gino Mcneill', 'David Parkes'], 'date_Of_Birth ': ['15/05/2002','17/05/2002','16/02/1999','25/09/1998','11/05/2002','15/09/1997'], 'age': [12, 12, 13, 13, 14, 12], 'height': [173, 192, 186, 167, 151, 159], 'weight': [35, 32, 33, 30, 31, 32], 'address': ['street1', 'street2', 'street3', 'street1', 'street2', 'street4']}, index=['S1', 'S2', 'S3', 'S4', 'S5', 'S6'])"
      ]
    },
    {
      "cell_type": "code",
      "source": [
        "new_data = student_data.groupby(\"school_code\")[\"age\"].agg(\"mean\")\n",
        "print(new_data)\n"
      ],
      "metadata": {
        "colab": {
          "base_uri": "https://localhost:8080/"
        },
        "id": "MFA4idZYvsbb",
        "outputId": "50f67971-9d20-44ae-8341-cd81f35540e5"
      },
      "execution_count": 10,
      "outputs": [
        {
          "output_type": "stream",
          "name": "stdout",
          "text": [
            "school_code\n",
            "s001    12.5\n",
            "s002    13.0\n",
            "s003    13.0\n",
            "s004    12.0\n",
            "Name: age, dtype: float64\n"
          ]
        }
      ]
    },
    {
      "cell_type": "code",
      "source": [
        "#cau b\n",
        "print(new_data)\n",
        "pivot_tab = pd.pivot_table(data=student_data, columns = 'school_code', aggfunc= ['mean', 'max', 'min'])\n",
        "print(pivot_tab)"
      ],
      "metadata": {
        "colab": {
          "base_uri": "https://localhost:8080/"
        },
        "id": "JJrIeh5xvxpn",
        "outputId": "9f4b3f70-f344-4bbd-f1e3-b4e396e98703"
      },
      "execution_count": 11,
      "outputs": [
        {
          "output_type": "stream",
          "name": "stdout",
          "text": [
            "school_code\n",
            "s001    12.5\n",
            "s002    13.0\n",
            "s003    13.0\n",
            "s004    12.0\n",
            "Name: age, dtype: float64\n",
            "                 mean                                max                \\\n",
            "school_code      s001   s002   s003   s004          s001          s002   \n",
            "age              12.5   13.0   13.0   12.0            13            14   \n",
            "height          170.0  171.5  186.0  159.0           173           192   \n",
            "weight           32.5   31.5   33.0   32.0            35            32   \n",
            "address           NaN    NaN    NaN    NaN       street1       street2   \n",
            "class             NaN    NaN    NaN    NaN            VI             V   \n",
            "date_Of_Birth     NaN    NaN    NaN    NaN    25/09/1998    17/05/2002   \n",
            "name              NaN    NaN    NaN    NaN  Eesha Hinton  Gino Mcneill   \n",
            "\n",
            "                                                      min                \\\n",
            "school_code            s003          s004            s001          s002   \n",
            "age                      13            12              12            12   \n",
            "height                  186           159             167           151   \n",
            "weight                   33            32              30            31   \n",
            "address             street3       street4         street1       street2   \n",
            "class                    VI            VI               V             V   \n",
            "date_Of_Birth    16/02/1999    15/09/1997      15/05/2002    11/05/2002   \n",
            "name            Ryan Parkes  David Parkes  Alberto Franco  Gino Mcneill   \n",
            "\n",
            "                                           \n",
            "school_code            s003          s004  \n",
            "age                      13            12  \n",
            "height                  186           159  \n",
            "weight                   33            32  \n",
            "address             street3       street4  \n",
            "class                    VI            VI  \n",
            "date_Of_Birth    16/02/1999    15/09/1997  \n",
            "name            Ryan Parkes  David Parkes  \n"
          ]
        }
      ]
    }
  ]
}