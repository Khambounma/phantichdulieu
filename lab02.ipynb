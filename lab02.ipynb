{
  "nbformat": 4,
  "nbformat_minor": 0,
  "metadata": {
    "colab": {
      "name": "lab02.ipynb",
      "provenance": [],
      "authorship_tag": "ABX9TyNWDjIS8AZzT1ltiDdu/Rgm",
      "include_colab_link": true
    },
    "kernelspec": {
      "name": "python3",
      "display_name": "Python 3"
    },
    "language_info": {
      "name": "python"
    }
  },
  "cells": [
    {
      "cell_type": "markdown",
      "metadata": {
        "id": "view-in-github",
        "colab_type": "text"
      },
      "source": [
        "<a href=\"https://colab.research.google.com/github/Khambounma/phantichdulieu/blob/main/lab02.ipynb\" target=\"_parent\"><img src=\"https://colab.research.google.com/assets/colab-badge.svg\" alt=\"Open In Colab\"/></a>"
      ]
    },
    {
      "cell_type": "code",
      "execution_count": 1,
      "metadata": {
        "id": "Pzz9VRk5JPdT"
      },
      "outputs": [],
      "source": [
        "import pandas as pd\n",
        "import sys\n",
        "import seaborn as sns\n",
        "import matplotlib.pyplot as plt"
      ]
    },
    {
      "cell_type": "code",
      "source": [
        "def load_data(filename):\n",
        "  return pd.read_csv('https://raw.githubusercontent.com/huynhhoc/phantichdulieu/main/Data/covid19/'+filename)"
      ],
      "metadata": {
        "id": "tX0yzLXWKtae"
      },
      "execution_count": null,
      "outputs": []
    }
  ]
}