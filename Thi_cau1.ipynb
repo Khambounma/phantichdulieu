{
  "nbformat": 4,
  "nbformat_minor": 0,
  "metadata": {
    "colab": {
      "name": "Thi_cau1.ipynb",
      "provenance": [],
      "authorship_tag": "ABX9TyMesPojIRnmt6tLgxfQARLR",
      "include_colab_link": true
    },
    "kernelspec": {
      "name": "python3",
      "display_name": "Python 3"
    },
    "language_info": {
      "name": "python"
    }
  },
  "cells": [
    {
      "cell_type": "markdown",
      "metadata": {
        "id": "view-in-github",
        "colab_type": "text"
      },
      "source": [
        "<a href=\"https://colab.research.google.com/github/Khambounma/phantichdulieu/blob/main/Thi_cau1.ipynb\" target=\"_parent\"><img src=\"https://colab.research.google.com/assets/colab-badge.svg\" alt=\"Open In Colab\"/></a>"
      ]
    },
    {
      "cell_type": "markdown",
      "source": [
        "# **Cau 1**"
      ],
      "metadata": {
        "id": "O8mSyppAoygJ"
      }
    },
    {
      "cell_type": "code",
      "source": [
        "import numpy as np\n",
        "import pandas as pd\n",
        "import matplotlib.pyplot as plt"
      ],
      "metadata": {
        "id": "4trylfJio80k"
      },
      "execution_count": 10,
      "outputs": []
    },
    {
      "cell_type": "code",
      "source": [
        "\n",
        "# Câu 1\n",
        "#cau a\n",
        "exam_data = {'name': ['Anastasia', 'Dima', 'Katherine', 'James', 'Emily', 'Michael',   'Matthew', 'Laura', 'Kevin', 'Jonas'],\n",
        "                'score': [12.5, 9, 16.5, np.nan, 9, 20, 14.5, np.nan, 8, 19],\n",
        "                'attempts': [1, 3, 2, 3, 2, 3, 1, 1, 2, 1],\n",
        "                'qualify': ['yes', 'no', 'yes', 'no', 'no', 'yes', 'yes', 'no', 'no', 'yes']}\n",
        "labels = ['a', 'b', 'c', 'd', 'e', 'f', 'g', 'h', 'i', 'j']\n",
        "\n",
        "df = pd.DataFrame(data= exam_data, index= labels)\n",
        "print(df)"
      ],
      "metadata": {
        "colab": {
          "base_uri": "https://localhost:8080/"
        },
        "id": "8-eIE6EKiLSJ",
        "outputId": "6083c9fb-de9e-432f-f63b-b70558e04495"
      },
      "execution_count": 11,
      "outputs": [
        {
          "output_type": "stream",
          "name": "stdout",
          "text": [
            "        name  score  attempts qualify\n",
            "a  Anastasia   12.5         1     yes\n",
            "b       Dima    9.0         3      no\n",
            "c  Katherine   16.5         2     yes\n",
            "d      James    NaN         3      no\n",
            "e      Emily    9.0         2      no\n",
            "f    Michael   20.0         3     yes\n",
            "g    Matthew   14.5         1     yes\n",
            "h      Laura    NaN         1      no\n",
            "i      Kevin    8.0         2      no\n",
            "j      Jonas   19.0         1     yes\n"
          ]
        }
      ]
    },
    {
      "cell_type": "code",
      "source": [
        "#cau b\n",
        "print(df.head(3))"
      ],
      "metadata": {
        "colab": {
          "base_uri": "https://localhost:8080/"
        },
        "id": "DkK00fbIkoRf",
        "outputId": "3202e5e8-99bc-4e15-d8c9-571eeda45a04"
      },
      "execution_count": 12,
      "outputs": [
        {
          "output_type": "stream",
          "name": "stdout",
          "text": [
            "        name  score  attempts qualify\n",
            "a  Anastasia   12.5         1     yes\n",
            "b       Dima    9.0         3      no\n",
            "c  Katherine   16.5         2     yes\n"
          ]
        }
      ]
    },
    {
      "cell_type": "code",
      "source": [
        "#cau c\n",
        "condition = df.loc[(df[\"attempts\"] > 2) & (df[\"attempts\"] < 15)]\n",
        "print(condition)"
      ],
      "metadata": {
        "colab": {
          "base_uri": "https://localhost:8080/"
        },
        "id": "ju4mgdUflqYQ",
        "outputId": "907d0c63-5224-4b15-827b-843cae65cf4d"
      },
      "execution_count": 13,
      "outputs": [
        {
          "output_type": "stream",
          "name": "stdout",
          "text": [
            "      name  score  attempts qualify\n",
            "b     Dima    9.0         3      no\n",
            "d    James    NaN         3      no\n",
            "f  Michael   20.0         3     yes\n"
          ]
        }
      ]
    },
    {
      "cell_type": "code",
      "source": [
        "#cau d\n",
        "print(df[df['score'].isnull()])"
      ],
      "metadata": {
        "id": "SqAX6YbJm8hx",
        "colab": {
          "base_uri": "https://localhost:8080/"
        },
        "outputId": "a74b1251-afc6-4306-c273-4fed3d747b09"
      },
      "execution_count": 14,
      "outputs": [
        {
          "output_type": "stream",
          "name": "stdout",
          "text": [
            "    name  score  attempts qualify\n",
            "d  James    NaN         3      no\n",
            "h  Laura    NaN         1      no\n"
          ]
        }
      ]
    },
    {
      "cell_type": "code",
      "source": [
        "#cau e\n",
        "df[\"qualify\"] = df[\"qualify\"].replace({\"yes\": \"True\", \"no\":\"False\"})\n",
        "print(df)"
      ],
      "metadata": {
        "colab": {
          "base_uri": "https://localhost:8080/"
        },
        "id": "fTntckEjn7Ia",
        "outputId": "25922729-18a4-4747-f9c9-e16a770a5aec"
      },
      "execution_count": 15,
      "outputs": [
        {
          "output_type": "stream",
          "name": "stdout",
          "text": [
            "        name  score  attempts qualify\n",
            "a  Anastasia   12.5         1    True\n",
            "b       Dima    9.0         3   False\n",
            "c  Katherine   16.5         2    True\n",
            "d      James    NaN         3   False\n",
            "e      Emily    9.0         2   False\n",
            "f    Michael   20.0         3    True\n",
            "g    Matthew   14.5         1    True\n",
            "h      Laura    NaN         1   False\n",
            "i      Kevin    8.0         2   False\n",
            "j      Jonas   19.0         1    True\n"
          ]
        }
      ]
    },
    {
      "cell_type": "code",
      "source": [
        "#cau f\n",
        "df.drop('attempts', inplace = True, axis= 1)\n",
        "print(df)"
      ],
      "metadata": {
        "colab": {
          "base_uri": "https://localhost:8080/"
        },
        "id": "68fHt6LmoDVo",
        "outputId": "2cae6bf7-fd61-4a9a-d934-6c1c3d831f19"
      },
      "execution_count": 16,
      "outputs": [
        {
          "output_type": "stream",
          "name": "stdout",
          "text": [
            "        name  score qualify\n",
            "a  Anastasia   12.5    True\n",
            "b       Dima    9.0   False\n",
            "c  Katherine   16.5    True\n",
            "d      James    NaN   False\n",
            "e      Emily    9.0   False\n",
            "f    Michael   20.0    True\n",
            "g    Matthew   14.5    True\n",
            "h      Laura    NaN   False\n",
            "i      Kevin    8.0   False\n",
            "j      Jonas   19.0    True\n"
          ]
        }
      ]
    },
    {
      "cell_type": "code",
      "source": [
        "#cau g\n",
        "df[\"color\"] = pd.Series(['Red', 'Blue', 'Orange', 'Red', 'White', 'White', 'Blue', 'Green', 'Green', 'Red'], index= labels)\n",
        "print(df)"
      ],
      "metadata": {
        "colab": {
          "base_uri": "https://localhost:8080/"
        },
        "id": "Is5NWqsfpZ7R",
        "outputId": "faf06976-1ee0-4e4c-d2d2-c6fc18a9569a"
      },
      "execution_count": 17,
      "outputs": [
        {
          "output_type": "stream",
          "name": "stdout",
          "text": [
            "        name  score qualify   color\n",
            "a  Anastasia   12.5    True     Red\n",
            "b       Dima    9.0   False    Blue\n",
            "c  Katherine   16.5    True  Orange\n",
            "d      James    NaN   False     Red\n",
            "e      Emily    9.0   False   White\n",
            "f    Michael   20.0    True   White\n",
            "g    Matthew   14.5    True    Blue\n",
            "h      Laura    NaN   False   Green\n",
            "i      Kevin    8.0   False   Green\n",
            "j      Jonas   19.0    True     Red\n"
          ]
        }
      ]
    }
  ]
}