{
  "nbformat": 4,
  "nbformat_minor": 0,
  "metadata": {
    "colab": {
      "name": "Thi_cau1.ipynb",
      "provenance": [],
      "authorship_tag": "ABX9TyNhW6uYmE6ES+QtCoU2ikox",
      "include_colab_link": true
    },
    "kernelspec": {
      "name": "python3",
      "display_name": "Python 3"
    },
    "language_info": {
      "name": "python"
    }
  },
  "cells": [
    {
      "cell_type": "markdown",
      "metadata": {
        "id": "view-in-github",
        "colab_type": "text"
      },
      "source": [
        "<a href=\"https://colab.research.google.com/github/Khambounma/phantichdulieu/blob/main/Thi_cau1.ipynb\" target=\"_parent\"><img src=\"https://colab.research.google.com/assets/colab-badge.svg\" alt=\"Open In Colab\"/></a>"
      ]
    },
    {
      "cell_type": "markdown",
      "source": [
        "# **Cau 1**"
      ],
      "metadata": {
        "id": "O8mSyppAoygJ"
      }
    },
    {
      "cell_type": "code",
      "source": [
        "import numpy as np\n",
        "import pandas as pd\n",
        "import matplotlib.pyplot as plt"
      ],
      "metadata": {
        "id": "4trylfJio80k"
      },
      "execution_count": 1,
      "outputs": []
    },
    {
      "cell_type": "code",
      "source": [
        "\n",
        "# Câu 1\n",
        "#cau a\n",
        "exam_data = {'name': ['Anastasia', 'Dima', 'Katherine', 'James', 'Emily', 'Michael',   'Matthew', 'Laura', 'Kevin', 'Jonas'],\n",
        "                'score': [12.5, 9, 16.5, np.nan, 9, 20, 14.5, np.nan, 8, 19],\n",
        "                'attempts': [1, 3, 2, 3, 2, 3, 1, 1, 2, 1],\n",
        "                'qualify': ['yes', 'no', 'yes', 'no', 'no', 'yes', 'yes', 'no', 'no', 'yes']}\n",
        "labels = ['a', 'b', 'c', 'd', 'e', 'f', 'g', 'h', 'i', 'j']\n",
        "\n",
        "df = pd.DataFrame(data= exam_data, index= labels)\n",
        "print(df)"
      ],
      "metadata": {
        "colab": {
          "base_uri": "https://localhost:8080/"
        },
        "id": "8-eIE6EKiLSJ",
        "outputId": "b93c4c38-bb21-451b-d3e5-dce4d2a1b100"
      },
      "execution_count": 2,
      "outputs": [
        {
          "output_type": "stream",
          "name": "stdout",
          "text": [
            "        name  score  attempts qualify\n",
            "a  Anastasia   12.5         1     yes\n",
            "b       Dima    9.0         3      no\n",
            "c  Katherine   16.5         2     yes\n",
            "d      James    NaN         3      no\n",
            "e      Emily    9.0         2      no\n",
            "f    Michael   20.0         3     yes\n",
            "g    Matthew   14.5         1     yes\n",
            "h      Laura    NaN         1      no\n",
            "i      Kevin    8.0         2      no\n",
            "j      Jonas   19.0         1     yes\n"
          ]
        }
      ]
    },
    {
      "cell_type": "code",
      "source": [
        "#cau b\n",
        "print(df.head(3))"
      ],
      "metadata": {
        "colab": {
          "base_uri": "https://localhost:8080/"
        },
        "id": "DkK00fbIkoRf",
        "outputId": "6b02f116-ebe7-4637-9c82-19724ad16f16"
      },
      "execution_count": 3,
      "outputs": [
        {
          "output_type": "stream",
          "name": "stdout",
          "text": [
            "        name  score  attempts qualify\n",
            "a  Anastasia   12.5         1     yes\n",
            "b       Dima    9.0         3      no\n",
            "c  Katherine   16.5         2     yes\n"
          ]
        }
      ]
    },
    {
      "cell_type": "code",
      "source": [
        "#cau c\n",
        "condition = df.loc[(df[\"attempts\"] > 2) & (df[\"attempts\"] < 15)]\n",
        "print(condition)"
      ],
      "metadata": {
        "colab": {
          "base_uri": "https://localhost:8080/"
        },
        "id": "ju4mgdUflqYQ",
        "outputId": "334968d1-88bd-4bf3-8137-3b63826cd302"
      },
      "execution_count": 4,
      "outputs": [
        {
          "output_type": "stream",
          "name": "stdout",
          "text": [
            "      name  score  attempts qualify\n",
            "b     Dima    9.0         3      no\n",
            "d    James    NaN         3      no\n",
            "f  Michael   20.0         3     yes\n"
          ]
        }
      ]
    },
    {
      "cell_type": "code",
      "source": [
        "#cau d\n"
      ],
      "metadata": {
        "id": "SqAX6YbJm8hx"
      },
      "execution_count": 5,
      "outputs": []
    },
    {
      "cell_type": "code",
      "source": [
        "#cau e\n",
        "df[\"qualify\"] = df[\"qualify\"].replace({\"yes\": \"True\", \"no\":\"False\"})\n",
        "print(df)"
      ],
      "metadata": {
        "colab": {
          "base_uri": "https://localhost:8080/"
        },
        "id": "fTntckEjn7Ia",
        "outputId": "177aa9ee-6c41-4e1e-d915-d3f363b1c0ab"
      },
      "execution_count": 6,
      "outputs": [
        {
          "output_type": "stream",
          "name": "stdout",
          "text": [
            "        name  score  attempts qualify\n",
            "a  Anastasia   12.5         1    True\n",
            "b       Dima    9.0         3   False\n",
            "c  Katherine   16.5         2    True\n",
            "d      James    NaN         3   False\n",
            "e      Emily    9.0         2   False\n",
            "f    Michael   20.0         3    True\n",
            "g    Matthew   14.5         1    True\n",
            "h      Laura    NaN         1   False\n",
            "i      Kevin    8.0         2   False\n",
            "j      Jonas   19.0         1    True\n"
          ]
        }
      ]
    },
    {
      "cell_type": "code",
      "source": [
        "#cau f\n",
        "df.drop('attempts', inplace = True, axis= 1)\n",
        "print(df)"
      ],
      "metadata": {
        "colab": {
          "base_uri": "https://localhost:8080/"
        },
        "id": "68fHt6LmoDVo",
        "outputId": "40b69c3d-b39a-4ac3-abac-fa4e973c32ca"
      },
      "execution_count": 7,
      "outputs": [
        {
          "output_type": "stream",
          "name": "stdout",
          "text": [
            "        name  score qualify\n",
            "a  Anastasia   12.5    True\n",
            "b       Dima    9.0   False\n",
            "c  Katherine   16.5    True\n",
            "d      James    NaN   False\n",
            "e      Emily    9.0   False\n",
            "f    Michael   20.0    True\n",
            "g    Matthew   14.5    True\n",
            "h      Laura    NaN   False\n",
            "i      Kevin    8.0   False\n",
            "j      Jonas   19.0    True\n"
          ]
        }
      ]
    },
    {
      "cell_type": "code",
      "source": [
        "#cau g\n",
        "df[\"color\"] = pd.Series(['Red', 'Blue', 'Orange', 'Red', 'White', 'White', 'Blue', 'Green', 'Green', 'Red'], index= labels)\n",
        "print(df)"
      ],
      "metadata": {
        "id": "Is5NWqsfpZ7R",
        "outputId": "b696147b-013c-49d4-e825-7f5410a8ad15",
        "colab": {
          "base_uri": "https://localhost:8080/"
        }
      },
      "execution_count": 8,
      "outputs": [
        {
          "output_type": "stream",
          "name": "stdout",
          "text": [
            "        name  score qualify   color\n",
            "a  Anastasia   12.5    True     Red\n",
            "b       Dima    9.0   False    Blue\n",
            "c  Katherine   16.5    True  Orange\n",
            "d      James    NaN   False     Red\n",
            "e      Emily    9.0   False   White\n",
            "f    Michael   20.0    True   White\n",
            "g    Matthew   14.5    True    Blue\n",
            "h      Laura    NaN   False   Green\n",
            "i      Kevin    8.0   False   Green\n",
            "j      Jonas   19.0    True     Red\n"
          ]
        }
      ]
    }
  ]
}