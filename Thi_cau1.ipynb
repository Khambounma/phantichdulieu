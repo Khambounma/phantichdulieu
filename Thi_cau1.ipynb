{
  "nbformat": 4,
  "nbformat_minor": 0,
  "metadata": {
    "colab": {
      "name": "Thi_cau1.ipynb",
      "provenance": [],
      "authorship_tag": "ABX9TyMC6bpnUIE206gDPk+JZlLo",
      "include_colab_link": true
    },
    "kernelspec": {
      "name": "python3",
      "display_name": "Python 3"
    },
    "language_info": {
      "name": "python"
    }
  },
  "cells": [
    {
      "cell_type": "markdown",
      "metadata": {
        "id": "view-in-github",
        "colab_type": "text"
      },
      "source": [
        "<a href=\"https://colab.research.google.com/github/Khambounma/phantichdulieu/blob/main/Thi_cau1.ipynb\" target=\"_parent\"><img src=\"https://colab.research.google.com/assets/colab-badge.svg\" alt=\"Open In Colab\"/></a>"
      ]
    },
    {
      "cell_type": "code",
      "source": [
        "import numpy as np\n",
        "import pandas as pd\n",
        "import matplotlib.pyplot as plt\n",
        "\n",
        "# Câu 1\n",
        "#cau a\n",
        "exam_data = {'name': ['Anastasia', 'Dima', 'Katherine', 'James', 'Emily', 'Michael',   'Matthew', 'Laura', 'Kevin', 'Jonas'],\n",
        "                'score': [12.5, 9, 16.5, np.nan, 9, 20, 14.5, np.nan, 8, 19],\n",
        "                'attempts': [1, 3, 2, 3, 2, 3, 1, 1, 2, 1],\n",
        "                'qualify': ['yes', 'no', 'yes', 'no', 'no', 'yes', 'yes', 'no', 'no', 'yes']}\n",
        "labels = ['a', 'b', 'c', 'd', 'e', 'f', 'g', 'h', 'i', 'j']\n",
        "\n",
        "df = pd.DataFrame(data= exam_data, index= labels)\n",
        "print(df)"
      ],
      "metadata": {
        "colab": {
          "base_uri": "https://localhost:8080/"
        },
        "id": "8-eIE6EKiLSJ",
        "outputId": "f1946941-f352-47bc-b9b9-c03ffb134519"
      },
      "execution_count": null,
      "outputs": [
        {
          "output_type": "stream",
          "name": "stdout",
          "text": [
            "        name  score  attempts qualify\n",
            "a  Anastasia   12.5         1     yes\n",
            "b       Dima    9.0         3      no\n",
            "c  Katherine   16.5         2     yes\n",
            "d      James    NaN         3      no\n",
            "e      Emily    9.0         2      no\n",
            "f    Michael   20.0         3     yes\n",
            "g    Matthew   14.5         1     yes\n",
            "h      Laura    NaN         1      no\n",
            "i      Kevin    8.0         2      no\n",
            "j      Jonas   19.0         1     yes\n"
          ]
        }
      ]
    },
    {
      "cell_type": "code",
      "source": [
        "#cau b\n",
        "print(df.head(3))"
      ],
      "metadata": {
        "colab": {
          "base_uri": "https://localhost:8080/"
        },
        "id": "DkK00fbIkoRf",
        "outputId": "18944c80-85b6-4726-dc28-f99d494cb032"
      },
      "execution_count": null,
      "outputs": [
        {
          "output_type": "stream",
          "name": "stdout",
          "text": [
            "        name  score  attempts qualify\n",
            "a  Anastasia   12.5         1     yes\n",
            "b       Dima    9.0         3      no\n",
            "c  Katherine   16.5         2     yes\n"
          ]
        }
      ]
    },
    {
      "cell_type": "code",
      "source": [
        "#cau c\n",
        "condition = df.loc[(df[\"attempts\"] > 2) & (df[\"attempts\"] < 15)]\n",
        "print(condition)"
      ],
      "metadata": {
        "colab": {
          "base_uri": "https://localhost:8080/"
        },
        "id": "ju4mgdUflqYQ",
        "outputId": "c7bbd834-9388-484a-f53a-42695ff7e706"
      },
      "execution_count": null,
      "outputs": [
        {
          "output_type": "stream",
          "name": "stdout",
          "text": [
            "      name  score  attempts qualify\n",
            "b     Dima    9.0         3      no\n",
            "d    James    NaN         3      no\n",
            "f  Michael   20.0         3     yes\n"
          ]
        }
      ]
    },
    {
      "cell_type": "code",
      "source": [
        "#cau d\n"
      ],
      "metadata": {
        "id": "SqAX6YbJm8hx"
      },
      "execution_count": null,
      "outputs": []
    },
    {
      "cell_type": "code",
      "source": [
        "#cau e\n",
        "df[\"qualify\"] = df[\"qualify\"].replace({\"yes\": \"True\", \"no\":\"False\"})\n",
        "print(df)"
      ],
      "metadata": {
        "colab": {
          "base_uri": "https://localhost:8080/"
        },
        "id": "fTntckEjn7Ia",
        "outputId": "2ed2fda7-c5ab-4b73-c96c-c1980c3c35d8"
      },
      "execution_count": null,
      "outputs": [
        {
          "output_type": "stream",
          "name": "stdout",
          "text": [
            "        name  score  attempts qualify\n",
            "a  Anastasia   12.5         1    True\n",
            "b       Dima    9.0         3   False\n",
            "c  Katherine   16.5         2    True\n",
            "d      James    NaN         3   False\n",
            "e      Emily    9.0         2   False\n",
            "f    Michael   20.0         3    True\n",
            "g    Matthew   14.5         1    True\n",
            "h      Laura    NaN         1   False\n",
            "i      Kevin    8.0         2   False\n",
            "j      Jonas   19.0         1    True\n"
          ]
        }
      ]
    },
    {
      "cell_type": "code",
      "source": [
        "#cau f\n",
        "df.drop('attempts', inplace = True, axis= 1)\n",
        "print(df)"
      ],
      "metadata": {
        "colab": {
          "base_uri": "https://localhost:8080/"
        },
        "id": "68fHt6LmoDVo",
        "outputId": "02300cc4-456c-411a-9d0b-3c9827247fcb"
      },
      "execution_count": null,
      "outputs": [
        {
          "output_type": "stream",
          "name": "stdout",
          "text": [
            "        name  score qualify\n",
            "a  Anastasia   12.5    True\n",
            "b       Dima    9.0   False\n",
            "c  Katherine   16.5    True\n",
            "d      James    NaN   False\n",
            "e      Emily    9.0   False\n",
            "f    Michael   20.0    True\n",
            "g    Matthew   14.5    True\n",
            "h      Laura    NaN   False\n",
            "i      Kevin    8.0   False\n",
            "j      Jonas   19.0    True\n"
          ]
        }
      ]
    }
  ]
}