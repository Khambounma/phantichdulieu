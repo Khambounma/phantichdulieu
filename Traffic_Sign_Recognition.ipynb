{
  "nbformat": 4,
  "nbformat_minor": 0,
  "metadata": {
    "colab": {
      "name": "Traffic_Sign_Recognition.ipynb",
      "provenance": [],
      "collapsed_sections": [],
      "authorship_tag": "ABX9TyMDB+ZO0fsYt0BbhXZqe2gf",
      "include_colab_link": true
    },
    "kernelspec": {
      "name": "python3",
      "display_name": "Python 3"
    },
    "language_info": {
      "name": "python"
    }
  },
  "cells": [
    {
      "cell_type": "markdown",
      "metadata": {
        "id": "view-in-github",
        "colab_type": "text"
      },
      "source": [
        "<a href=\"https://colab.research.google.com/github/Khambounma/phantichdulieu/blob/main/Traffic_Sign_Recognition.ipynb\" target=\"_parent\"><img src=\"https://colab.research.google.com/assets/colab-badge.svg\" alt=\"Open In Colab\"/></a>"
      ]
    },
    {
      "cell_type": "code",
      "execution_count": 10,
      "metadata": {
        "id": "2EuQl0Tsnx_O",
        "colab": {
          "base_uri": "https://localhost:8080/"
        },
        "outputId": "b872b501-42b7-4485-892c-6ec938fc9552"
      },
      "outputs": [
        {
          "output_type": "stream",
          "name": "stdout",
          "text": [
            "TensorFlow is already loaded. Please restart the runtime to change versions.\n"
          ]
        }
      ],
      "source": [
        "%tensorflow_version 1.x"
      ]
    },
    {
      "cell_type": "code",
      "source": [
        "import numpy as np\n",
        "import pandas as pd\n",
        "import os\n",
        "import cv2\n",
        "import matplotlib.pyplot as plt\n",
        "import tensorflow as tf\n",
        "from tensorflow import keras\n",
        "from PIL import Image\n",
        "from sklearn.model_selection import train_test_split\n",
        "from tensorflow.keras.preprocessing.image import ImageDataGenerator\n",
        "from tensorflow.keras.optimizers import Adam\n",
        "from sklearn.metrics import accuracy_acore\n",
        "np.random.seed(42)\n",
        "\n",
        "from matplotlib import style\n",
        "style.use('fivethirtyeight')"
      ],
      "metadata": {
        "id": "TjMhPP29oWv1"
      },
      "execution_count": null,
      "outputs": []
    },
    {
      "cell_type": "markdown",
      "source": [
        "Assigning Path for Dataset"
      ],
      "metadata": {
        "id": "xnhLhesgwv_3"
      }
    },
    {
      "cell_type": "code",
      "source": [
        "data_dir = \"/content/drive/MyDrive/Colab_Notebook/TSF/Traffic_sign_classifcaton\"\n",
        "train_path = 'Train'\n",
        "test_path = 'Test'\n",
        "\n",
        "#Resizing the images to 30x30x3\n",
        "IMG_HEIGHT = 30\n",
        "IMG_WIDTH = 30\n",
        "channels = 3"
      ],
      "metadata": {
        "id": "Pdm_hg24w_oG"
      },
      "execution_count": 12,
      "outputs": []
    },
    {
      "cell_type": "markdown",
      "source": [
        "Finding Total Classes"
      ],
      "metadata": {
        "id": "a2KNaKHCx-Rp"
      }
    },
    {
      "cell_type": "code",
      "source": [
        "NUM_CATEGORIES = len(os.listdir(train_path))\n",
        "NUM_CATEGORIES"
      ],
      "metadata": {
        "id": "ilDRTSDByEcn"
      },
      "execution_count": null,
      "outputs": []
    },
    {
      "cell_type": "code",
      "source": [
        "#Label Overview\n",
        "classes = {0: 'Speed limit (20km/h)',\n",
        "           1: 'Speed limit (30km/h)',\n",
        "           2: 'Speed limit (50km/h)',\n",
        "           3: 'Speed limit (60km/h)',\n",
        "           4: 'Speed limit (70km/h)',\n",
        "           5: 'Speed limit (80km/h)',\n",
        "           6: 'End of speed limit (80km/h)',\n",
        "           7: 'Speed limit (100km/h)',\n",
        "           8: 'Speed limit (120km/h)',\n",
        "           9: 'No passing',\n",
        "           10: 'No passing veh over 2.5 tons',\n",
        "           11: 'Right-of-way at intersection',\n",
        "           12: 'Priority road',\n",
        "           13: 'Yield',\n",
        "           14: 'Stop',\n",
        "           15: 'No vehicles',\n",
        "           16: 'Veh > 3.5 tons prohibited',\n",
        "           17: 'No entry',\n",
        "           18: 'General caution',\n",
        "           19: 'Dangerous curve lrft',\n",
        "           20: 'Dangerous curve right',\n",
        "           21: 'Double curve',\n",
        "           22: 'Bumpy road',\n",
        "           23: 'Slippery road',\n",
        "           24: 'Road narrows on the right',\n",
        "           25: 'Road work',\n",
        "           26: 'Traffic signals',\n",
        "           27: 'Pedestrians',\n",
        "           28: 'Children crossing',\n",
        "           29: 'Bicycles crossing',\n",
        "           30: 'Beware of ice/snow',\n",
        "           31: 'Wild animals crossing',\n",
        "           32: 'End speed + passing limits',\n",
        "           33: 'Turn right ahead',\n",
        "           34: 'Turn left ahead',\n",
        "           35: 'Ahead only',\n",
        "           36: 'Go straight or right',\n",
        "           37: 'Go straight or left',\n",
        "           38: 'Keep right',\n",
        "           39: 'Keep left',\n",
        "           40: 'Roundabout mandatory',\n",
        "           41: 'End of no passing',\n",
        "           42: 'End no passing veh > 3.5 tons' }"
      ],
      "metadata": {
        "id": "POo42y_oyqbR"
      },
      "execution_count": null,
      "outputs": []
    },
    {
      "cell_type": "markdown",
      "source": [
        "Visualizing the dataset"
      ],
      "metadata": {
        "id": "r2IawpFU5F5-"
      }
    },
    {
      "cell_type": "code",
      "source": [
        "folders = os.listdir(train_path)\n",
        "\n",
        "train_number = []\n",
        "class_num = []\n",
        "\n",
        "for folder in folders:\n",
        "  train_files = os.listdir(train_path + '/' + folder)\n",
        "  train_number.append(len(train_files))\n",
        "  class_num.append(classes[int(folder)])\n",
        "\n",
        "#Sorting the dataset on the basis of number of images in each class\n",
        "zipped_lists = zip(train_number, class_num)\n",
        "sorted_pairs = sorted(zipped_lists)\n",
        "tuples = zip(*sorted_pairs)\n",
        "train_number, class_num = [list(tuple) for tuple in tuples]\n",
        "#Plotting the number of images in each class\n",
        "plt.figure(figsize=(21,10))\n",
        "plt.bar(class_num, train_number)\n",
        "plt.xticks(class_num, rotation='vertical')\n",
        "plt.show()"
      ],
      "metadata": {
        "id": "huSDqRt95NOD"
      },
      "execution_count": null,
      "outputs": []
    },
    {
      "cell_type": "code",
      "source": [
        "#Visualizing 25 random images from test data\n",
        "import random\n",
        "from matplotlib.image import imread\n",
        "\n",
        "test = pd.read_csv(data_dir + '/Test.csv')\n",
        "imgs = test[\"Path\"].values\n",
        "plt.figure(figsize=(25,25))\n",
        "\n",
        "for i in range(1, 26):\n",
        "  plt.subplot(5,5,i)\n",
        "  random_img_path = data_dir + '/' + random.choice(imgs)\n",
        "  rand_img = imread(random_img_path)\n",
        "  plt.imshow(rand_img)\n",
        "  plt.grid(b=None)\n",
        "  plt.xlabel(rand_img.shape[1], fontsize = 20) #width of image\n",
        "  plt.ylabel(rand_img.shape[0], fontsize = 20) #height of image\n",
        "  "
      ],
      "metadata": {
        "id": "HaKT9xp27zOI"
      },
      "execution_count": null,
      "outputs": []
    },
    {
      "cell_type": "markdown",
      "source": [
        "Collecting the Training data"
      ],
      "metadata": {
        "id": "lQ3alKYV-eTG"
      }
    },
    {
      "cell_type": "code",
      "source": [
        "image_data = []\n",
        "image_labels = []\n",
        "\n",
        "for i in range(NUM_CATEGORIES):\n",
        "  path = data_dir + '/Train/' + str(i)\n",
        "  images = os.listdir(path)\n",
        "\n",
        "  for img in images:\n",
        "    try:\n",
        "      image = cv2.imread(path + '/' + img)\n",
        "      image_fromarray = Image.fromarray(image, 'RGB')\n",
        "      resize_image = image_fromarray.resize((IMG_HEIGHT, IMG_WIDTH))\n",
        "      image_data.append(np.array(resize_image))\n",
        "      image_labels.append(i)\n",
        "    except:\n",
        "      print(\"Error in\" + img)\n",
        "\n",
        "#Changing the list to numpy array\n",
        "image_data = np.array(image_data)\n",
        "image_labels = np.array(image_labels)\n",
        "print(image_data.shape, image_labels.shaps)"
      ],
      "metadata": {
        "id": "CZbrYrRw-mAz"
      },
      "execution_count": null,
      "outputs": []
    },
    {
      "cell_type": "markdown",
      "source": [
        "Shuffling the training data"
      ],
      "metadata": {
        "id": "MzMcCZrpA8gg"
      }
    },
    {
      "cell_type": "code",
      "source": [
        ""
      ],
      "metadata": {
        "id": "07Goa0NdBHOX"
      },
      "execution_count": null,
      "outputs": []
    }
  ]
}